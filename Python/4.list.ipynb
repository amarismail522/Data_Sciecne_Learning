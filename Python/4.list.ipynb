{
 "cells": [
  {
   "cell_type": "markdown",
   "id": "1b617386",
   "metadata": {},
   "source": [
    "### Exercise: Python Lists"
   ]
  },
  {
   "cell_type": "markdown",
   "id": "ac79a2ed",
   "metadata": {},
   "source": [
    "Q.Let us say your expense for every month are listed below,\n",
    "- January - 2200\n",
    "- February - 2350\n",
    "- March - 2600\n",
    "- April - 2130\n",
    "- May - 2190\n",
    "- Create a list to store these monthly expenses and using that find out,"
   ]
  },
  {
   "cell_type": "code",
   "execution_count": 1,
   "id": "f67fb45d",
   "metadata": {},
   "outputs": [
    {
     "name": "stdout",
     "output_type": "stream",
     "text": [
      "In feb this much extra was spent compared to jan: 150\n",
      "Total expense in first quarter: 7150\n",
      "Did I spent 2000$ in any month?: False\n",
      "Expenses at the end of june:  [2200, 2350, 2600, 2130, 2190, 1980]\n",
      "Expenses after 200$ return in April: [2200, 2350, 2600, 1930, 2190, 1980]\n"
     ]
    }
   ],
   "source": [
    "expense = [2200, 2350, 2600, 2130, 2190]\n",
    "\n",
    "#1. In Feb, how many dollars you spent extra compare to January?\n",
    "print('In feb this much extra was spent compared to jan:', expense[1]-expense[0])\n",
    "\n",
    "#2. Find out your total expense in first quarter (first three months) of the year.\n",
    "print(\"Total expense in first quarter:\", expense[0]+expense[1]+expense[2])\n",
    "\n",
    "#3. Find out if you spent exactly 2000 dollars in any month\n",
    "print(\"Did I spent 2000$ in any month?:\", 2000 in expense)\n",
    "\n",
    "#4. June month just finished and your expense is 1980 dollar. Add this item to our monthly expense list\n",
    "expense.append(1980)\n",
    "print(\"Expenses at the end of june: \", expense)\n",
    "\n",
    "#5. You returned an item that you bought in a month of April and\n",
    "#got a refund of 200$. Make a correction to your monthly expense list\n",
    "#based on this\n",
    "expense[3] = expense[3] - 200\n",
    "print(\"Expenses after 200$ return in April:\", expense)"
   ]
  },
  {
   "cell_type": "markdown",
   "id": "dfe6a0ee",
   "metadata": {},
   "source": [
    "Q.You have a list of your favourite marvel super heros."
   ]
  },
  {
   "cell_type": "code",
   "execution_count": 2,
   "id": "6caa62c2",
   "metadata": {},
   "outputs": [],
   "source": [
    "heros=['spider man','thor','hulk','iron man','captain america']"
   ]
  },
  {
   "cell_type": "code",
   "execution_count": 3,
   "id": "5ef66df6",
   "metadata": {},
   "outputs": [
    {
     "name": "stdout",
     "output_type": "stream",
     "text": [
      "Length of heroes is: 5\n",
      "['spider man', 'thor', 'hulk', 'iron man', 'captain america', 'black panther']\n",
      "['spider man', 'thor', 'hulk', 'black panther', 'iron man', 'captain america']\n",
      "['spider man', 'doctor strange', 'black panther', 'iron man', 'captain america']\n",
      "['black panther', 'captain america', 'doctor strange', 'iron man', 'spider man']\n"
     ]
    }
   ],
   "source": [
    "#1. Length of the list\n",
    "print(\"Length of heroes is:\",len(heros))\n",
    "\n",
    "#2. Add 'black panther' at the end of this list\n",
    "heros.append('black panther')\n",
    "print(heros)\n",
    "\n",
    "#3. You realize that you need to add 'black panther' after 'hulk',so remove it from the list first and then add it after 'hulk'\n",
    "heros.remove('black panther')\n",
    "heros.insert(3, 'black panther')\n",
    "print(heros)\n",
    "\n",
    "#4. Now you don't like thor and hulk because they get angry easily :)\n",
    "#So you want to remove thor and hulk from list and replace them with doctor strange (because he is cool).\n",
    "#Do that with one line of code.\n",
    "heros[1:3] = ['doctor strange']\n",
    "print(heros)\n",
    "\n",
    "#5. Sort the heros list in alphabetical order (Hint. Use dir() functions to list down all functions available in list)\n",
    "heros.sort()\n",
    "print(heros)"
   ]
  }
 ],
 "metadata": {
  "kernelspec": {
   "display_name": "Python 3 (ipykernel)",
   "language": "python",
   "name": "python3"
  },
  "language_info": {
   "codemirror_mode": {
    "name": "ipython",
    "version": 3
   },
   "file_extension": ".py",
   "mimetype": "text/x-python",
   "name": "python",
   "nbconvert_exporter": "python",
   "pygments_lexer": "ipython3",
   "version": "3.9.12"
  }
 },
 "nbformat": 4,
 "nbformat_minor": 5
}

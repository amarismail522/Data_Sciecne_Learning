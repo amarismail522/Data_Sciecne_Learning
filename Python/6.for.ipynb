{
 "cells": [
  {
   "cell_type": "markdown",
   "id": "6642d778",
   "metadata": {},
   "source": [
    "### Exercise: Python for loop"
   ]
  },
  {
   "cell_type": "markdown",
   "id": "404f1b66",
   "metadata": {},
   "source": [
    "Q.After flipping a coin 10 times you got this result,"
   ]
  },
  {
   "cell_type": "code",
   "execution_count": 1,
   "id": "b8305743",
   "metadata": {},
   "outputs": [],
   "source": [
    "result = [\"heads\",\"tails\",\"tails\",\"heads\",\"tails\",\"heads\",\"heads\",\"tails\",\"tails\",\"tails\"]"
   ]
  },
  {
   "cell_type": "code",
   "execution_count": 2,
   "id": "6ddab0a8",
   "metadata": {},
   "outputs": [
    {
     "name": "stdout",
     "output_type": "stream",
     "text": [
      "heads count:  4\n"
     ]
    }
   ],
   "source": [
    "#Using for loop figure out how many times you got heads\n",
    "\n",
    "count = 0\n",
    "for item in result:\n",
    "    if item == 'heads':\n",
    "        count+=1\n",
    "print('heads count: ',count)"
   ]
  },
  {
   "cell_type": "markdown",
   "id": "c5aebb57",
   "metadata": {},
   "source": [
    "Q.Print square of all numbers between 1 to 10 except even numbers"
   ]
  },
  {
   "cell_type": "code",
   "execution_count": 3,
   "id": "f94bf770",
   "metadata": {},
   "outputs": [
    {
     "name": "stdout",
     "output_type": "stream",
     "text": [
      "\n",
      "Excerise 2\n",
      "\n",
      "1\n",
      "9\n",
      "25\n",
      "49\n",
      "81\n"
     ]
    }
   ],
   "source": [
    "print('\\nExcerise 2\\n')\n",
    "for i in range(1,11):\n",
    "    if i % 2 ==0:\n",
    "        continue\n",
    "    print(i*i)"
   ]
  },
  {
   "cell_type": "markdown",
   "id": "1a432564",
   "metadata": {},
   "source": [
    "Q.Lets say you are running a 5 km race. Write a program that,"
   ]
  },
  {
   "cell_type": "code",
   "execution_count": 4,
   "id": "add13b42",
   "metadata": {},
   "outputs": [
    {
     "name": "stdout",
     "output_type": "stream",
     "text": [
      "\n",
      " Excercise 3\n",
      "\n",
      "You ran 1 miles\n",
      "Are you tired?: yes\n",
      "You don't finish 5km race but hey congrats anyways! You still ran 1 miles\n"
     ]
    }
   ],
   "source": [
    "#Upon completing each 1 km asks you \"are you tired?\"\n",
    "print('\\n Excercise 3\\n')\n",
    "\n",
    "for i in range(5):\n",
    "    print(f'You ran {i+1} miles')\n",
    "    tired = input(\"Are you tired?: \")\n",
    "    if tired == \"yes\":\n",
    "        break\n",
    "\n",
    "#If you reply \"yes\" then it should break and print \"you didn't finish the race\"\n",
    "#If you reply \"no\" then it should continue and ask \"are you tired\" on every km\n",
    "#If you finish all 5 km then it should print congratulations message\n",
    "\n",
    "if i == 4:\n",
    "    print(\"Hurry! You are a rock star! You just finished 5km race!\")\n",
    "else:\n",
    "    print(f\"You don't finish 5km race but hey congrats anyways! You still ran {i+1} miles\")\n",
    "    \n"
   ]
  },
  {
   "cell_type": "markdown",
   "id": "160e9160",
   "metadata": {},
   "source": [
    "Q. Write a program that prints following shape\n"
   ]
  },
  {
   "cell_type": "code",
   "execution_count": 5,
   "id": "19f51a98",
   "metadata": {},
   "outputs": [],
   "source": [
    "# *\n",
    "# **\n",
    "# ***\n",
    "# ****\n",
    "# *****"
   ]
  },
  {
   "cell_type": "code",
   "execution_count": 6,
   "id": "7d542f96",
   "metadata": {},
   "outputs": [
    {
     "name": "stdout",
     "output_type": "stream",
     "text": [
      "*\n",
      "**\n",
      "***\n",
      "****\n",
      "*****\n"
     ]
    }
   ],
   "source": [
    "for i in range(1,6):\n",
    "    s = ''\n",
    "    for j in range(i):\n",
    "        s+='*'\n",
    "    print(s)"
   ]
  },
  {
   "cell_type": "code",
   "execution_count": null,
   "id": "902830ae",
   "metadata": {},
   "outputs": [],
   "source": []
  }
 ],
 "metadata": {
  "kernelspec": {
   "display_name": "Python 3 (ipykernel)",
   "language": "python",
   "name": "python3"
  },
  "language_info": {
   "codemirror_mode": {
    "name": "ipython",
    "version": 3
   },
   "file_extension": ".py",
   "mimetype": "text/x-python",
   "name": "python",
   "nbconvert_exporter": "python",
   "pygments_lexer": "ipython3",
   "version": "3.9.12"
  }
 },
 "nbformat": 4,
 "nbformat_minor": 5
}

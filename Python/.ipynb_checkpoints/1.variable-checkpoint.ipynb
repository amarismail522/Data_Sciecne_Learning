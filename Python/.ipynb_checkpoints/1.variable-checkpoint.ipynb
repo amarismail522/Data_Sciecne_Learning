{
 "cells": [
  {
   "cell_type": "markdown",
   "id": "85e51c0e",
   "metadata": {},
   "source": [
    "# Excerise Python Variables"
   ]
  },
  {
   "cell_type": "code",
   "execution_count": 1,
   "id": "0445c5a9",
   "metadata": {},
   "outputs": [
    {
     "ename": "SyntaxError",
     "evalue": "invalid syntax (2709188746.py, line 1)",
     "output_type": "error",
     "traceback": [
      "\u001b[0;36m  Input \u001b[0;32mIn [1]\u001b[0;36m\u001b[0m\n\u001b[0;31m    break = 5\u001b[0m\n\u001b[0m          ^\u001b[0m\n\u001b[0;31mSyntaxError\u001b[0m\u001b[0;31m:\u001b[0m invalid syntax\n"
     ]
    }
   ],
   "source": [
    "break = 5"
   ]
  },
  {
   "cell_type": "markdown",
   "id": "df9abb9b",
   "metadata": {},
   "source": [
    "- In Python, \"break\" is a reserved word used in for and while loops to exit the loop prematurely when a certain condition is met. By creating a variable with this name, you are overwriting the functionality of the reserved word, which could result in unexpected behavior.\n",
    "- In general, it's a good practice to avoid using reserved words as variable names to avoid such conflicts."
   ]
  },
  {
   "cell_type": "code",
   "execution_count": 3,
   "id": "b9cfd305",
   "metadata": {},
   "outputs": [
    {
     "name": "stdout",
     "output_type": "stream",
     "text": [
      "23\n"
     ]
    }
   ],
   "source": [
    "# a variable for birth year \n",
    "birth_year = 2000   \n",
    "# a variable for current year \n",
    "current_year = 2023  \n",
    "# subtract birth year from current year and print age \n",
    "cal_age = current_year - birth_year  \n",
    "print(cal_age)\n"
   ]
  },
  {
   "cell_type": "code",
   "execution_count": null,
   "id": "b6661fc5",
   "metadata": {},
   "outputs": [],
   "source": []
  },
  {
   "cell_type": "code",
   "execution_count": null,
   "id": "cb755c42",
   "metadata": {},
   "outputs": [],
   "source": [
    "# a variable store first name \n",
    "first_name = Muhammad \n",
    "\n",
    "# a variable store middle name \n",
    "middle_name = Ammar \n",
    "\n",
    "# a variable store last name \n",
    "last_name = Ismail\n",
    "\n",
    "# sum up all variables in full_name variable and print it\n",
    "full_name = first_name + middle_name + "
   ]
  }
 ],
 "metadata": {
  "kernelspec": {
   "display_name": "Python 3 (ipykernel)",
   "language": "python",
   "name": "python3"
  },
  "language_info": {
   "codemirror_mode": {
    "name": "ipython",
    "version": 3
   },
   "file_extension": ".py",
   "mimetype": "text/x-python",
   "name": "python",
   "nbconvert_exporter": "python",
   "pygments_lexer": "ipython3",
   "version": "3.9.12"
  }
 },
 "nbformat": 4,
 "nbformat_minor": 5
}

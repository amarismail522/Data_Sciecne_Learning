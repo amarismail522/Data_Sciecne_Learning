{
 "cells": [
  {
   "cell_type": "markdown",
   "id": "08013b85",
   "metadata": {},
   "source": [
    "### Excerise: String in Python"
   ]
  },
  {
   "cell_type": "markdown",
   "id": "62f46b11",
   "metadata": {},
   "source": [
    "- 1.Create 3 variables to store street, city and country, now create address variable to store entire address. Use two ways of creating this variable, one using + operator and the other using f-string. Now Print the address in such a way that the street, city and country prints in a separate line"
   ]
  },
  {
   "cell_type": "code",
   "execution_count": 1,
   "id": "45502cf4",
   "metadata": {},
   "outputs": [
    {
     "name": "stdout",
     "output_type": "stream",
     "text": [
      "Address using + operator:  \n",
      "4 number gali\n",
      "Faisalabad\n",
      "Pakistan\n",
      "\n",
      "Adress using f-string:  \n",
      "4 number gali\n",
      "Faisalabad\n",
      "Pakistan\n"
     ]
    }
   ],
   "source": [
    "street = \"4 number gali\"\n",
    "city = \"Faisalabad\"\n",
    "country = \"Pakistan\"\n",
    "address = '\\n' + street + '\\n' + city + '\\n' + country\n",
    "print(\"Address using + operator: \", address)\n",
    "address = f'\\n{street}\\n{city}\\n{country}'\n",
    "print(\"\\nAdress using f-string: \", address)"
   ]
  },
  {
   "cell_type": "markdown",
   "id": "8862fbf1",
   "metadata": {},
   "source": [
    "- 2.Create a variable to store the string \"Earth revolves around the sun\"\n",
    "Print \"revolves\" using slice operator\n",
    "Print \"sun\" using negative index"
   ]
  },
  {
   "cell_type": "code",
   "execution_count": 2,
   "id": "bf224c4d",
   "metadata": {},
   "outputs": [
    {
     "name": "stdout",
     "output_type": "stream",
     "text": [
      "revolves\n",
      "sun\n"
     ]
    }
   ],
   "source": [
    "sentence = \"Earth revolves around the sun\"\n",
    "print(sentence[6:14])\n",
    "print(sentence[-3:])"
   ]
  },
  {
   "cell_type": "markdown",
   "id": "5f949c05",
   "metadata": {},
   "source": [
    "- Create two variables to store how many fruits and vegetables you eat in a day. Now Print \"I eat x veggies and y fruits daily\" where x and y presents vegetables and fruits that you eat everyday. Use python f string for this."
   ]
  },
  {
   "cell_type": "code",
   "execution_count": 3,
   "id": "af36d13c",
   "metadata": {},
   "outputs": [
    {
     "name": "stdout",
     "output_type": "stream",
     "text": [
      "I eat 6 fruits and 4 daily\n"
     ]
    }
   ],
   "source": [
    "num_fruits = 6\n",
    "num_vegetables = 4\n",
    "print(f'I eat {num_fruits} fruits and {num_vegetables} daily')"
   ]
  },
  {
   "cell_type": "markdown",
   "id": "13da0dc9",
   "metadata": {},
   "source": [
    "- I have a string variable called s='maine 200 banana khaye'. This of course is a wrong statement, the correct statement is 'maine 10 samosa khaye'. Replace incorrect words in original strong with new ones and print the new string. Also try to do this in one line."
   ]
  },
  {
   "cell_type": "code",
   "execution_count": 4,
   "id": "281530e8",
   "metadata": {},
   "outputs": [
    {
     "name": "stdout",
     "output_type": "stream",
     "text": [
      "Using two line replace:  maine 10 samosa khaye\n"
     ]
    }
   ],
   "source": [
    "s = 'maine 200 banana khaye'\n",
    "s = s.replace('banana', 'samosa')\n",
    "s = s.replace('200','10')\n",
    "print(\"Using two line replace: \",s)"
   ]
  },
  {
   "cell_type": "code",
   "execution_count": 5,
   "id": "309b30e3",
   "metadata": {},
   "outputs": [
    {
     "name": "stdout",
     "output_type": "stream",
     "text": [
      "Using single line:  maine 10 samose khaye\n"
     ]
    }
   ],
   "source": [
    "s = 'maine 200 banana khaye'\n",
    "s = s.replace('banana', 'samose').replace('200', '10')\n",
    "print(\"Using single line: \",s)"
   ]
  }
 ],
 "metadata": {
  "kernelspec": {
   "display_name": "Python 3 (ipykernel)",
   "language": "python",
   "name": "python3"
  },
  "language_info": {
   "codemirror_mode": {
    "name": "ipython",
    "version": 3
   },
   "file_extension": ".py",
   "mimetype": "text/x-python",
   "name": "python",
   "nbconvert_exporter": "python",
   "pygments_lexer": "ipython3",
   "version": "3.9.12"
  }
 },
 "nbformat": 4,
 "nbformat_minor": 5
}

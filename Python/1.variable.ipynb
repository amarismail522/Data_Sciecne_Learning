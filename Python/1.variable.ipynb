{
 "cells": [
  {
   "cell_type": "markdown",
   "id": "4453e298",
   "metadata": {},
   "source": [
    "# Excerise Python Variables"
   ]
  },
  {
   "cell_type": "code",
   "execution_count": 1,
   "id": "49ec7637",
   "metadata": {},
   "outputs": [
    {
     "ename": "SyntaxError",
     "evalue": "invalid syntax (2709188746.py, line 1)",
     "output_type": "error",
     "traceback": [
      "\u001b[0;36m  Input \u001b[0;32mIn [1]\u001b[0;36m\u001b[0m\n\u001b[0;31m    break = 5\u001b[0m\n\u001b[0m          ^\u001b[0m\n\u001b[0;31mSyntaxError\u001b[0m\u001b[0;31m:\u001b[0m invalid syntax\n"
     ]
    }
   ],
   "source": [
    "break = 5"
   ]
  },
  {
   "cell_type": "markdown",
   "id": "2f10013d",
   "metadata": {},
   "source": [
    "- In Python, \"break\" is a reserved word used in for and while loops to exit the loop prematurely when a certain condition is met. By creating a variable with this name, you are overwriting the functionality of the reserved word, which could result in unexpected behavior.\n",
    "- In general, it's a good practice to avoid using reserved words as variable names to avoid such conflicts."
   ]
  },
  {
   "cell_type": "code",
   "execution_count": 3,
   "id": "c8807c94",
   "metadata": {},
   "outputs": [
    {
     "name": "stdout",
     "output_type": "stream",
     "text": [
      "23\n"
     ]
    }
   ],
   "source": [
    "# a variable for birth year \n",
    "birth_year = 2000   \n",
    "# a variable for current year \n",
    "current_year = 2023  \n",
    "# subtract birth year from current year and print age \n",
    "cal_age = current_year - birth_year  \n",
    "print(cal_age)\n"
   ]
  },
  {
   "cell_type": "code",
   "execution_count": 6,
   "id": "c21f4533",
   "metadata": {},
   "outputs": [
    {
     "name": "stdout",
     "output_type": "stream",
     "text": [
      "Muhammad Amar Ismail\n"
     ]
    }
   ],
   "source": [
    "# a variable store first name \n",
    "first_name = \"Muhammad\" \n",
    "\n",
    "# a variable store middle name \n",
    "middle_name = \"Amar\" \n",
    "\n",
    "# a variable store last name \n",
    "last_name = \"Ismail\"\n",
    "\n",
    "# sum up all variables in full_name variable and print it\n",
    "full_name = first_name + \" \"+ middle_name + \" \" + last_name \n",
    "print(full_name)"
   ]
  },
  {
   "cell_type": "code",
   "execution_count": 7,
   "id": "2a636b9e",
   "metadata": {},
   "outputs": [],
   "source": [
    "# _nation1, 1nation, record1, record_one, record-one"
   ]
  },
  {
   "cell_type": "markdown",
   "id": "3116f2d4",
   "metadata": {},
   "source": [
    "#### In Python, the following rules should be followed when naming variables:\n",
    "\n",
    "- Variable names can only contain letters, numbers, and underscores. They must start with a letter or an underscore.\n",
    "\n",
    "- Variable names cannot be the same as Python keywords such as \"for\", \"while\", \"if\", etc.\n",
    "\n",
    "- Variable names should be descriptive and not too long. Avoid using abbreviations that are not widely recognized.\n",
    "\n",
    "- Variable names should be lowercase, with words separated by underscores to improve readability. For example, \"student_name\".\n",
    "\n",
    "- Avoid using names that have special meaning in Python such as \"list\", \"str\", \"tuple\", etc. as variable names, as this may cause confusion.\n",
    "\n",
    "- PEP 8, the style guide for Python code, recommends using snake_case for variable names.\n",
    "\n",
    "In summary, it's important to follow these rules to make your code readable, maintainable, and free from errors."
   ]
  },
  {
   "cell_type": "code",
   "execution_count": null,
   "id": "39c80380",
   "metadata": {},
   "outputs": [],
   "source": []
  }
 ],
 "metadata": {
  "kernelspec": {
   "display_name": "Python 3 (ipykernel)",
   "language": "python",
   "name": "python3"
  },
  "language_info": {
   "codemirror_mode": {
    "name": "ipython",
    "version": 3
   },
   "file_extension": ".py",
   "mimetype": "text/x-python",
   "name": "python",
   "nbconvert_exporter": "python",
   "pygments_lexer": "ipython3",
   "version": "3.9.12"
  }
 },
 "nbformat": 4,
 "nbformat_minor": 5
}

{
 "cells": [
  {
   "cell_type": "code",
   "execution_count": 1,
   "id": "2f7f08a1",
   "metadata": {},
   "outputs": [
    {
     "name": "stdout",
     "output_type": "stream",
     "text": [
      "Area of footbal is:  4489.599999999999\n"
     ]
    }
   ],
   "source": [
    "# Calculate area of footbal \n",
    "\n",
    "footbal_length = 92\n",
    "footbal_width = 48.8\n",
    "total_area = footbal_length * footbal_width\n",
    "print(\"Area of footbal is: \", total_area)"
   ]
  },
  {
   "cell_type": "markdown",
   "id": "6e6ebaf1",
   "metadata": {},
   "source": [
    "#### Q. You bought 9 packets of potato chips from a store. Each packet costs 1.49 dollar and you gave shopkeeper 20 dollar. Find out using python, how many dollars is the shopkeeper going to give you back?"
   ]
  },
  {
   "cell_type": "code",
   "execution_count": 2,
   "id": "4791a141",
   "metadata": {},
   "outputs": [
    {
     "name": "stdout",
     "output_type": "stream",
     "text": [
      "Cash back:  6.59\n"
     ]
    }
   ],
   "source": [
    "total_potato = 9\n",
    "cost_per_potato = 1.49\n",
    "total_cost = total_potato * cost_per_potato\n",
    "paid_amount = 20 \n",
    "cash_back = paid_amount - total_cost\n",
    "print(\"Cash back: \", cash_back)"
   ]
  },
  {
   "cell_type": "markdown",
   "id": "f88ef927",
   "metadata": {},
   "source": [
    "#### Q. You want to replace tiles in your bathroom which is exactly square and 5.5 feet is its length. If tiles cost 500 rs per square feet, how much will be the total cost to replace all tiles. Calculate and print the cost using python (Hint: Use power operator ** to find area of a square)"
   ]
  },
  {
   "cell_type": "code",
   "execution_count": 3,
   "id": "1c9f80c3",
   "metadata": {},
   "outputs": [
    {
     "name": "stdout",
     "output_type": "stream",
     "text": [
      "total cost for bathroom tiles:  15125.0\n"
     ]
    }
   ],
   "source": [
    "length = 5.5\n",
    "area = length ** 2 # area of square is length power 2\n",
    "cost = area * 500\n",
    "print(\"total cost for bathroom tiles: \", cost)"
   ]
  },
  {
   "cell_type": "code",
   "execution_count": 4,
   "id": "0e501bc2",
   "metadata": {},
   "outputs": [
    {
     "name": "stdout",
     "output_type": "stream",
     "text": [
      "Binary of number 17 is:  10001\n"
     ]
    }
   ],
   "source": [
    "num = 17 \n",
    "print(\"Binary of number 17 is: \", format(num, 'b'))"
   ]
  },
  {
   "cell_type": "code",
   "execution_count": null,
   "id": "cf70b071",
   "metadata": {},
   "outputs": [],
   "source": []
  }
 ],
 "metadata": {
  "kernelspec": {
   "display_name": "Python 3 (ipykernel)",
   "language": "python",
   "name": "python3"
  },
  "language_info": {
   "codemirror_mode": {
    "name": "ipython",
    "version": 3
   },
   "file_extension": ".py",
   "mimetype": "text/x-python",
   "name": "python",
   "nbconvert_exporter": "python",
   "pygments_lexer": "ipython3",
   "version": "3.9.12"
  }
 },
 "nbformat": 4,
 "nbformat_minor": 5
}

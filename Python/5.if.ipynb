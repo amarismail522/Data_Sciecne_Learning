{
 "cells": [
  {
   "cell_type": "markdown",
   "id": "d8c2c7b5",
   "metadata": {},
   "source": [
    "### Exercise: Python If Condition"
   ]
  },
  {
   "cell_type": "markdown",
   "id": "411ba502",
   "metadata": {},
   "source": [
    "Using following list of cities per country,"
   ]
  },
  {
   "cell_type": "code",
   "execution_count": 1,
   "id": "f9f5b519",
   "metadata": {},
   "outputs": [],
   "source": [
    "india = [\"mumbai\", \"banglore\", \"chennai\", \"delhi\"]\n",
    "pakistan = [\"lahore\",\"karachi\",\"islamabad\"]\n",
    "bangladesh = [\"dhaka\", \"khulna\", \"rangpur\"]"
   ]
  },
  {
   "cell_type": "code",
   "execution_count": 2,
   "id": "bfbcfb5d",
   "metadata": {},
   "outputs": [
    {
     "name": "stdout",
     "output_type": "stream",
     "text": [
      "Enter city name: lahore\n",
      "lahore is in pakistan\n"
     ]
    }
   ],
   "source": [
    "#Write a program that asks user to enter a city name and it should tell which country the city belongs to\n",
    "city = input(\"Enter city name: \")\n",
    "if city in india:\n",
    "    print(f'{city} is in india')\n",
    "elif city in pakistan:\n",
    "    print(f'{city} is in pakistan')\n",
    "elif city in bangladesh:\n",
    "    print(f'{city} is in bangladesh')\n",
    "else:\n",
    "    print(f\"I won't able to tell you which country {city} is in! sorry!\")"
   ]
  },
  {
   "cell_type": "code",
   "execution_count": 3,
   "id": "e388d721",
   "metadata": {},
   "outputs": [
    {
     "name": "stdout",
     "output_type": "stream",
     "text": [
      "Enter city 1: lahore\n",
      "Enter city 2: karachi\n",
      "Both cities are in pakistan\n"
     ]
    }
   ],
   "source": [
    "#Write a program that asks user to enter two cities and it tells you if they both are in same country or not. For example if I enter mumbai and chennai, it will print \"Both cities are in India\" but if I enter mumbai and dhaka it should print \"They don't belong to same country\"\n",
    "city1 = input(\"Enter city 1: \")\n",
    "city2 = input(\"Enter city 2: \")\n",
    "\n",
    "if city1 in india and city2 in india:\n",
    "    print(\"Both cities are in india\")\n",
    "elif city1 in pakistan and city2 in pakistan:\n",
    "    print(\"Both cities are in pakistan\")\n",
    "elif city1 in bangladesh and city2 in bangladesh:\n",
    "    print(\"Both cities are in bangladesh\")\n",
    "else:\n",
    "    print(\"They don't belong to same country\")"
   ]
  },
  {
   "cell_type": "code",
   "execution_count": 4,
   "id": "c3f38040",
   "metadata": {},
   "outputs": [
    {
     "name": "stdout",
     "output_type": "stream",
     "text": [
      "Please enter your fasting sugar level: 70\n",
      "Your sugar is low.\n"
     ]
    }
   ],
   "source": [
    "#Write a python program that can tell you if your sugar is normal or not. Normal fasting level sugar range is 80 to 100.\n",
    "#Ask user to enter his fasting sugar level\n",
    "#If it is below 80 to 100 range then print that sugar is low\n",
    "#If it is above 100 then print that it is high otherwise print that it is normal\n",
    "\n",
    "sugar = input(\"Please enter your fasting sugar level: \")\n",
    "sugar = float(sugar)\n",
    "if sugar <80:\n",
    "    print(\"Your sugar is low.\")\n",
    "elif sugar >100:\n",
    "    print(\"Your sugar is high\")\n",
    "else:\n",
    "    print(\"Your sugar is normal\")"
   ]
  }
 ],
 "metadata": {
  "kernelspec": {
   "display_name": "Python 3 (ipykernel)",
   "language": "python",
   "name": "python3"
  },
  "language_info": {
   "codemirror_mode": {
    "name": "ipython",
    "version": 3
   },
   "file_extension": ".py",
   "mimetype": "text/x-python",
   "name": "python",
   "nbconvert_exporter": "python",
   "pygments_lexer": "ipython3",
   "version": "3.9.12"
  }
 },
 "nbformat": 4,
 "nbformat_minor": 5
}
